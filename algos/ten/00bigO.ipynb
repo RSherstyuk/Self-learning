{
 "cells": [
  {
   "cell_type": "code",
   "execution_count": 54,
   "id": "76d13c47",
   "metadata": {},
   "outputs": [],
   "source": [
    "import timeit\n",
    "import matplotlib.pyplot as plt\n",
    "import numpy as np"
   ]
  },
  {
   "cell_type": "code",
   "execution_count": null,
   "id": "4ff68993",
   "metadata": {},
   "outputs": [],
   "source": [
    "\n",
    "def plot_complexity(func, n_min=1, n_max=100, title='Зависимость времени выполнения от количества итераций'):\n",
    "    \"\"\"\n",
    "    Анализирует и визуализирует производительность функции\n",
    "    \n",
    "    Параметры:\n",
    "    func - тестируемая функция (должна возвращать (iterations, time))\n",
    "    n_min - минимальное значение входного параметра\n",
    "    n_max - максимальное значение входного параметра\n",
    "    title - заголовок графика\n",
    "    \"\"\"\n",
    "    results = [func(n) for n in range(n_min, n_max + 1)]\n",
    "    iterations = [k for k, t in results]\n",
    "    times = [t for k, t in results]\n",
    "    \n",
    "\n",
    "    plt.figure(figsize=(8, 5))\n",
    "    \n",
    "    plt.scatter(iterations, times, alpha=0.5, color='blue', label='Отдельные измерения')\n",
    "    \n",
    "    unique_iters = sorted(set(iterations))\n",
    "    avg_times = []\n",
    "    for k in unique_iters:\n",
    "        k_times = [t for i, t in enumerate(times) if iterations[i] == k]\n",
    "        avg_times.append(np.mean(k_times))\n",
    "    \n",
    "    plt.plot(unique_iters, avg_times, 'r-', linewidth=2, label='Среднее время')\n",
    "    \n",
    "    plt.title(title)\n",
    "    plt.xlabel('Количество итераций (k)')\n",
    "    plt.ylabel('Время выполнения (мс)')\n",
    "    plt.grid(True, linestyle='--', alpha=0.5)\n",
    "    plt.legend()\n",
    "    plt.tight_layout()\n",
    "    \n",
    "    print(\"\\nСтатистика по итерациям:\")\n",
    "    print(\"k\\tСреднее время\\tКоличество\\tМин. время\\tМакс. время\")\n",
    "    print(\"=\" * 55)\n",
    "    for i, k in enumerate(unique_iters):\n",
    "        k_times = [t for i, t in enumerate(times) if iterations[i] == k]\n",
    "        min_t = min(k_times)\n",
    "        max_t = max(k_times)\n",
    "        print(f\"{k}\\t{avg_times[i]:.8f} ms\\t{len(k_times)}\\t\\t{min_t:.8f} ms\\t{max_t:.8f} ms\")\n",
    "    \n",
    "    plt.show()"
   ]
  },
  {
   "cell_type": "code",
   "execution_count": null,
   "id": "b27cf67b",
   "metadata": {},
   "outputs": [
    {
     "name": "stdout",
     "output_type": "stream",
     "text": [
      "logarifmic: 40 Time:0.003692 ms\n"
     ]
    }
   ],
   "source": [
    "def logarifmic(n):\n",
    "    start = timeit.default_timer()\n",
    "\n",
    "    k = 0\n",
    "    while n > 0:\n",
    "        n = n // 2\n",
    "        k += 1\n",
    "    \n",
    "    run_time = (timeit.default_timer() - start) * 1000\n",
    "    print(\"logarifmic: {} Time:{:.6f} ms\".format(k, run_time))\n"
   ]
  },
  {
   "cell_type": "code",
   "execution_count": null,
   "id": "ff9001dc",
   "metadata": {},
   "outputs": [
    {
     "name": "stdout",
     "output_type": "stream",
     "text": [
      "logarifmic: 100000000 Time:3301.216386 ms\n"
     ]
    }
   ],
   "source": [
    "def line(n):\n",
    "    start = timeit.default_timer()\n",
    "\n",
    "    k = 0\n",
    "    for _ in range(n):\n",
    "        k += 1\n",
    "\n",
    "    run_time = (timeit.default_timer() - start) * 1000\n",
    "    print(\"logarifmic: {} Time:{:.6f} ms\".format(k, run_time))\n",
    "\n",
    "        "
   ]
  },
  {
   "cell_type": "code",
   "execution_count": null,
   "id": "a36125a0",
   "metadata": {},
   "outputs": [
    {
     "name": "stdout",
     "output_type": "stream",
     "text": [
      "logarifmic: 100000000 Time:3301.788804 ms\n"
     ]
    }
   ],
   "source": [
    "def quadrat(n):\n",
    "    start = timeit.default_timer()\n",
    "\n",
    "    k = 0\n",
    "    for _ in range(n):\n",
    "        for _ in range(n):\n",
    "            k += 1\n",
    "\n",
    "    run_time = (timeit.default_timer() - start) * 1000\n",
    "    print(\"logarifmic: {} Time:{:.6f} ms\".format(k, run_time))\n"
   ]
  },
  {
   "cell_type": "markdown",
   "id": "a24a376a",
   "metadata": {},
   "source": []
  },
  {
   "cell_type": "code",
   "execution_count": 119,
   "id": "2478246b",
   "metadata": {},
   "outputs": [],
   "source": [
    "def exponential(n):\n",
    "    start = timeit.default_timer()\n",
    "    \n",
    "    k = 0\n",
    "    for _ in range(2**n):\n",
    "        k += 1\n",
    "\n",
    "    run_time = (timeit.default_timer() - start) * 1000\n",
    "    print(\"logarifmic: {} Time:{:.6f} ms\".format(k, run_time))\n",
    "\n"
   ]
  },
  {
   "cell_type": "code",
   "execution_count": 133,
   "id": "5dd2371d",
   "metadata": {},
   "outputs": [
    {
     "name": "stdout",
     "output_type": "stream",
     "text": [
      "logarifmic: 5 Time:0.001296 ms\n",
      "logarifmic: 25 Time:0.001117 ms\n",
      "logarifmic: 625 Time:0.015946 ms\n",
      "logarifmic: 33554432 Time:1106.390164 ms\n"
     ]
    }
   ],
   "source": [
    "n = 25\n",
    "logarifmic(n)\n",
    "line(n)\n",
    "quadrat(n)\n",
    "exponential(n)"
   ]
  },
  {
   "cell_type": "code",
   "execution_count": 27,
   "id": "c3428137",
   "metadata": {},
   "outputs": [],
   "source": [
    "ls = [1,2,4,6,7]\n",
    "\n",
    "\n",
    "# for i in range(len(ls) - 2):\n",
    "#     for j in range(len(ls) - 1):\n",
    "#         if ls[j] < ls[j + 1]:\n",
    "#             ls[j], ls[j + 1] = ls[j + 1], ls[j]\n",
    "\n",
    "\n",
    "v = ls[len(ls) // 2]\n",
    "l = ls[0]\n",
    "r = ls[len(ls) - 1]"
   ]
  }
 ],
 "metadata": {
  "kernelspec": {
   "display_name": "venv",
   "language": "python",
   "name": "python3"
  },
  "language_info": {
   "codemirror_mode": {
    "name": "ipython",
    "version": 3
   },
   "file_extension": ".py",
   "mimetype": "text/x-python",
   "name": "python",
   "nbconvert_exporter": "python",
   "pygments_lexer": "ipython3",
   "version": "3.13.3"
  }
 },
 "nbformat": 4,
 "nbformat_minor": 5
}
