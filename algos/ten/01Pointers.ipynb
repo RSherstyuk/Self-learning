{
 "cells": [
  {
   "cell_type": "code",
   "execution_count": 238,
   "id": "12303987",
   "metadata": {},
   "outputs": [],
   "source": [
    "def reverseStr(s: list[str]):  \n",
    "    r = len(s) - 1\n",
    "    l = 0\n",
    "    \n",
    "    s = list(s)\n",
    "    while l < r:\n",
    "        s[l], s[r] = s[r], s[l]\n",
    "        l += 1\n",
    "        r -= 1\n",
    "    return ''.join(s)\n"
   ]
  },
  {
   "cell_type": "code",
   "execution_count": 239,
   "id": "19b371d0",
   "metadata": {},
   "outputs": [],
   "source": [
    "def isPol(s: list[str]) -> bool:\n",
    "    r = len(s) - 1\n",
    "    l = 0\n",
    "\n",
    "    ish = s\n",
    "\n",
    "    s = list(s)\n",
    "    while l < r:\n",
    "        s[l], s[r] = s[r], s[l]\n",
    "        l += 1\n",
    "        r -= 1\n",
    "    rez = ''.join(s)\n",
    "\n",
    "    return rez == ish"
   ]
  },
  {
   "cell_type": "code",
   "execution_count": 240,
   "id": "7d22b967",
   "metadata": {},
   "outputs": [],
   "source": [
    "#O(n) O(n)\n",
    "def twoSum(nums: list[int], target: int) -> list[int]:\n",
    "    num_dict = {}\n",
    "    \n",
    "    for i, num in enumerate(nums):\n",
    "        complement = target - num\n",
    "        if complement in num_dict:\n",
    "            return [num_dict[complement], i]\n",
    "        num_dict[num] = i\n",
    "    \n",
    "    return [] \n"
   ]
  },
  {
   "cell_type": "code",
   "execution_count": 241,
   "id": "9738c828",
   "metadata": {},
   "outputs": [],
   "source": [
    "import random \n",
    "import numpy as np\n",
    "import matplotlib.pylab as plt\n",
    "\n",
    "def fastSotr(arr: list[int]) -> list[int]:\n",
    "    if len(arr) <= 1:\n",
    "        return arr\n",
    "    pivot = arr[len(arr) // 2]  # Выбираем опорный элемент (середина)\n",
    "    left = [x for x in arr if x < pivot]\n",
    "    middle = [x for x in arr if x == pivot]\n",
    "    right = [x for x in arr if x > pivot]\n",
    "    return fastSotr(left) + middle + fastSotr(right)\n",
    "\n",
    "arr = [random.random() for _ in range(10000)]\n"
   ]
  },
  {
   "cell_type": "code",
   "execution_count": 242,
   "id": "1553e0fd",
   "metadata": {},
   "outputs": [
    {
     "data": {
      "text/plain": [
       "[]"
      ]
     },
     "execution_count": 242,
     "metadata": {},
     "output_type": "execute_result"
    }
   ],
   "source": [
    "import numpy as np\n",
    "\n",
    "def twoSum(nums: list[int], target: int) -> list[int]:\n",
    "    l = 0\n",
    "    r = len(nums) - 1\n",
    "    arr.sort()\n",
    "    while l < r:\n",
    "        cur_sum = nums[l] + nums[r]\n",
    "        if cur_sum == target:\n",
    "            return [nums[l], nums[r]]\n",
    "        if cur_sum > target:\n",
    "            r -= 1\n",
    "        else:\n",
    "            l += 1\n",
    "    return []\n",
    "\n",
    "arr = [np.random.randint(0, 100) for _ in range(100)]\n",
    "\n",
    "def findd():\n",
    "    ar = []\n",
    "    for i in range(1000):\n",
    "        if twoSum(arr, i) != []:\n",
    "            ar.append(i)\n",
    "    return ar\n",
    "twoSum(arr, 197)"
   ]
  },
  {
   "cell_type": "code",
   "execution_count": 243,
   "id": "ea159fde",
   "metadata": {},
   "outputs": [],
   "source": [
    "def threeSum(nums: list[int], target: list[int]) -> list[int]:\n",
    "    nums = sorted(nums)\n",
    "    rez = set()\n",
    "    n = len(nums)\n",
    "\n",
    "    for i in range(len(nums)):\n",
    "        target = -nums[i]\n",
    "        r = n - 1\n",
    "        l = i + 1\n",
    "        while l < r:\n",
    "            cur_sum = nums[l] + nums[r]\n",
    "            if cur_sum == target:\n",
    "                rez.add(target, nums[l], nums[l])\n",
    "            if cur_sum > target:\n",
    "                r -= 1\n",
    "            else: \n",
    "                l += 1\n",
    "    return rez\n"
   ]
  },
  {
   "cell_type": "code",
   "execution_count": 244,
   "id": "091762aa",
   "metadata": {},
   "outputs": [],
   "source": [
    "def sortedSuqres(nums: list[int]) -> list[int]:\n",
    "    n = len(nums)\n",
    "    rez = [n]\n",
    "    \n",
    "    l = 0\n",
    "    r = n - 1\n",
    "\n",
    "    for i in range(n - 1, -1, -1):\n",
    "        if abs(nums[l]) < abs(nums[r]):\n",
    "            rez[i] = nums[r] * nums[r]\n",
    "            r -= 1\n",
    "        else:\n",
    "            rez[i] = nums[l] * nums[r]\n",
    "            l += 1\n",
    "    return rez         \n"
   ]
  },
  {
   "cell_type": "code",
   "execution_count": 252,
   "id": "6896e224",
   "metadata": {},
   "outputs": [],
   "source": [
    "def maxArea(height):\n",
    "    left = 0\n",
    "    right = len(height) - 1\n",
    "    max_area = 0\n",
    "    \n",
    "    while left < right:\n",
    "        current_height = min(height[left], height[right])\n",
    "        current_width = right - left\n",
    "        current_area = current_height * current_width\n",
    "        \n",
    "        max_area = max(max_area, current_area)\n",
    "        \n",
    "        if height[left] < height[right]:\n",
    "            left += 1\n",
    "        else:\n",
    "            right -= 1\n",
    "    \n",
    "    return max_area\n"
   ]
  },
  {
   "cell_type": "code",
   "execution_count": 254,
   "id": "e9981ea0",
   "metadata": {},
   "outputs": [
    {
     "data": {
      "text/plain": [
       "1"
      ]
     },
     "execution_count": 254,
     "metadata": {},
     "output_type": "execute_result"
    }
   ],
   "source": [
    "def removeDupl(nums):\n",
    "    k = 0\n",
    "    for i in range(len(nums)):\n",
    "        if nums[k] != nums[i]:\n",
    "            k += 1\n",
    "            nums[k] = nums[i]\n",
    "        return k + 1\n",
    "    \n",
    "arr = [1,2,4,4,4,5,5,6,6,7,7]\n",
    "removeDupl(arr)"
   ]
  },
  {
   "cell_type": "code",
   "execution_count": 255,
   "id": "b25cf116",
   "metadata": {},
   "outputs": [],
   "source": [
    "def zzro(nums):\n",
    "    w = 0\n",
    "    for r in range(len(nums)):\n",
    "        if nums[r] != 0:\n",
    "            nums[w], nums[r] = nums[r], nums[w]\n",
    "            w += 1"
   ]
  },
  {
   "cell_type": "code",
   "execution_count": null,
   "id": "6a6b0898",
   "metadata": {},
   "outputs": [],
   "source": [
    "def isSubseq(sub, s) -> bool:\n",
    "    p1 = 0\n",
    "    p2 = 0\n",
    "\n",
    "    while sub[p1] < len(sub) and p2 < len(s):\n",
    "        if sub[p1] == s[p2]:\n",
    "            p1 += 1\n",
    "        p2 += 1\n",
    "    return p1 == len(sub)"
   ]
  }
 ],
 "metadata": {
  "kernelspec": {
   "display_name": "venv",
   "language": "python",
   "name": "python3"
  },
  "language_info": {
   "codemirror_mode": {
    "name": "ipython",
    "version": 3
   },
   "file_extension": ".py",
   "mimetype": "text/x-python",
   "name": "python",
   "nbconvert_exporter": "python",
   "pygments_lexer": "ipython3",
   "version": "3.13.3"
  }
 },
 "nbformat": 4,
 "nbformat_minor": 5
}
